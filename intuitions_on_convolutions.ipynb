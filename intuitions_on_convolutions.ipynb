{
  "cells": [
    {
      "cell_type": "markdown",
      "metadata": {
        "id": "ZB4uepXeCFVY"
      },
      "source": [
        "# Intuitions on Convolutions"
      ]
    },
    {
      "cell_type": "code",
      "source": [
        "from google.colab import drive\n",
        "drive.mount('/content/drive')"
      ],
      "metadata": {
        "colab": {
          "base_uri": "https://localhost:8080/"
        },
        "id": "RJ0SSlxuCJuI",
        "outputId": "36364b2d-1e87-4789-8b4f-7d19cab77e89"
      },
      "execution_count": 1,
      "outputs": [
        {
          "output_type": "stream",
          "name": "stdout",
          "text": [
            "Drive already mounted at /content/drive; to attempt to forcibly remount, call drive.mount(\"/content/drive\", force_remount=True).\n"
          ]
        }
      ]
    },
    {
      "cell_type": "markdown",
      "metadata": {
        "id": "o5DIlIPuCFVg"
      },
      "source": [
        "Let's build some intuitions about these **`convolution operations`**.\n",
        "\n",
        "🎯 <b><u>Goals</u>:</b>\n",
        "- **Understand convolution operations**\n",
        "- **Visualize**\n",
        "    - convolution kernels\n",
        "    - the effects of a convolution kernel applied on images\n",
        "\n",
        "<hr>\n",
        "\n",
        "🖼 <b><u>Convolutional Neural Networks are Neural Networks specifically designed to work on images</u></b>. \n",
        "\n",
        "- 🧮 This is made possible thanks to **`convolution operations`**.\n",
        "\n",
        "- 🔎 These specific mathematical operations apply a **`filter`** (i.e. a set of **`kernels`**, one per channel) to an input image and create an **`output representation`**. For Convolutional Neural Networks, this can also be called:\n",
        "    * a **`\"convoluted representation/feature\"`**,\n",
        "    * or a **`\"convolution\"`**,\n",
        "    * or also an **`\"activation\"`** (as it corresponds to the activation of a given layer).\n",
        "\n",
        "<img src=\"convolution.png\" width=\"300\">\n",
        "\n",
        "---\n",
        "\n",
        "❗️ <b><u>Remarks</u></b> ❗️\n",
        "\n",
        "* It is important to understand that **the same kernel (i.e. the same weights) is applied to different areas of the images**. \n",
        "\n",
        "* This is completely different from Dense Neural Networks that we've been working with during the first two units of the Deep Learning module:\n",
        "    * In `Dense/\"Fully Connected\" Neural Networks`, each weight of a given neuron is related to only one input coordinate (which, in images, would correspond to one pixel).\n",
        "    * In `Convolution Neural Networks`, the weights of a kernel are not applied to only one feature input, i.e. one pixel, but to different pixels, \"step by step\"!\n",
        "\n",
        "👉 You can think of each kernel (or each filter in the case of colored images) as a **`magnifying glass`** through which you see the image. Similarly to your eyes, kernels cannot capture everything in a picture at once, but they ***scan different parts of a picture to understand the whole picture that is being analyzed***.\n",
        "\n",
        "🎬 So let's have a closer look at `convolution operations`, and their impact in `Convolutional Neural Networks`."
      ]
    },
    {
      "cell_type": "markdown",
      "metadata": {
        "id": "Y48hXVkNCFVj"
      },
      "source": [
        "## (0) The dataset"
      ]
    },
    {
      "cell_type": "markdown",
      "metadata": {
        "id": "Z4jdj7y0CFVk"
      },
      "source": [
        "First, let's use the following function `load_data` to... load the data.\n",
        "\n",
        "* Do not change anything in the function!\n",
        "* Restrict from any desire to change the shapes or types of the outputs! This will have an impact on further questions."
      ]
    },
    {
      "cell_type": "code",
      "execution_count": 2,
      "metadata": {
        "id": "WdrRhRbxCFVm"
      },
      "outputs": [],
      "source": [
        "import os\n",
        "import numpy as np\n",
        "import pandas as pd\n",
        "\n",
        "from matplotlib.pyplot import imread\n",
        "\n",
        "import matplotlib.pyplot as plt\n",
        "%matplotlib inline\n",
        "\n",
        "def load_data(path):\n",
        "    nb_circles = 100\n",
        "    nb_triangles = 100\n",
        "    \n",
        "    X, y = [], []\n",
        "    \n",
        "    for i in range(nb_circles):\n",
        "        c_path = os.path.join(path, 'circles', f'circle_{i}.png')\n",
        "        X.append(imread(c_path)[:, :, :1])\n",
        "        y.append(0)\n",
        "    \n",
        "    for i in range(nb_triangles):\n",
        "        t_path = os.path.join(path, 'triangles', f'triangle_{i}.png')\n",
        "        X.append(imread(t_path)[:, :, :1])\n",
        "        y.append(1)\n",
        "        \n",
        "    c = list(zip(X, y))\n",
        "    np.random.shuffle(c)\n",
        "    X, y = zip(*c)\n",
        "        \n",
        "    return np.array(X), np.array(y)\n",
        "        \n",
        "X, y = load_data(\"https://wagon-public-datasets.s3.amazonaws.com/deep-learning-circles-triangles/\")\n",
        "# Replace data by \"https://wagon-public-datasets.s3.amazonaws.com/deep-learning-circles-triangles/\" \n",
        "# if you are on a server"
      ]
    },
    {
      "cell_type": "markdown",
      "metadata": {
        "id": "103E6cBtCFVo"
      },
      "source": [
        "❓ **Question about the shape** ❓\n",
        "\n",
        "* How many images do we have?\n",
        "* What are their dimensions? \n",
        "* Can you comment on the number of channels? "
      ]
    },
    {
      "cell_type": "code",
      "execution_count": 3,
      "metadata": {
        "tags": [
          "challengify"
        ],
        "colab": {
          "base_uri": "https://localhost:8080/"
        },
        "id": "k55O_NCkCFVp",
        "outputId": "0c96d77c-2fc2-404e-a2c1-cc449620e342"
      },
      "outputs": [
        {
          "output_type": "execute_result",
          "data": {
            "text/plain": [
              "((200, 76, 78, 1), (200,))"
            ]
          },
          "metadata": {},
          "execution_count": 3
        }
      ],
      "source": [
        "X.shape, y.shape"
      ]
    },
    {
      "cell_type": "markdown",
      "metadata": {
        "id": "U2Ur7bPbCFVq"
      },
      "source": [
        "<details>\n",
        "    <summary><i>About the number of channels:</i></summary>\n",
        "   \n",
        "Actually, we have already talked about this during the `MNIST challenge`.        \n",
        "        \n",
        "*  We need only one channel to compute the \"*blackness intensity*\" of a pixel with 0 corresponding to a black pixel and 1 corresponding to a white pixel. The last dimension corresponds to some kind of  \"Black to white channel\". \n",
        "        \n",
        "🎨 For colored images, the last dimension would be equal to 3 for `Red, Green, Blue (RGB)`\n",
        "\n",
        "👉 Have fun playing with the intensities of Red, Green and Blue <a href=\"https://www.w3schools.com/colors/colors_rgb.asp\">`here`</a>\n",
        "        \n",
        "        \n",
        "</details>        "
      ]
    },
    {
      "cell_type": "markdown",
      "metadata": {
        "id": "QBedp327CFVr"
      },
      "source": [
        "❓ **Question about the normalization** ❓\n",
        "\n",
        "Do these images need some normalization? "
      ]
    },
    {
      "cell_type": "code",
      "execution_count": 4,
      "metadata": {
        "tags": [
          "challengify"
        ],
        "id": "WGBBJpV2CFVs"
      },
      "outputs": [],
      "source": [
        "#Nope"
      ]
    },
    {
      "cell_type": "markdown",
      "metadata": {
        "id": "j57uSAhuCFVs"
      },
      "source": [
        "👀 Let's have a look at some images with `plt.imshow` and show their respective labels."
      ]
    },
    {
      "cell_type": "code",
      "execution_count": 5,
      "metadata": {
        "colab": {
          "base_uri": "https://localhost:8080/",
          "height": 1000
        },
        "id": "BAWu_BMhCFVt",
        "outputId": "acb6e99a-101f-4c02-dab4-6d0fe5481207"
      },
      "outputs": [
        {
          "output_type": "display_data",
          "data": {
            "text/plain": [
              "<Figure size 432x288 with 1 Axes>"
            ],
            "image/png": "[encoded data removed]"
          },
          "metadata": {
            "needs_background": "light"
          }
        },
        {
          "output_type": "display_data",
          "data": {
            "text/plain": [
              "<Figure size 432x288 with 1 Axes>"
            ],
            "image/png": "[encoded data removed]"
          },
          "metadata": {
            "needs_background": "light"
          }
        },
        {
          "output_type": "display_data",
          "data": {
            "text/plain": [
              "<Figure size 432x288 with 1 Axes>"
            ],
            "image/png": "[encoded data removed]"
          },
          "metadata": {
            "needs_background": "light"
          }
        },
        {
          "output_type": "display_data",
          "data": {
            "text/plain": [
              "<Figure size 432x288 with 1 Axes>"
            ],
            "image/png": "[encoded data removed]"
          },
          "metadata": {
            "needs_background": "light"
          }
        },
        {
          "output_type": "display_data",
          "data": {
            "text/plain": [
              "<Figure size 432x288 with 1 Axes>"
            ],
            "image/png": "[encoded data removed]"
          },
          "metadata": {
            "needs_background": "light"
          }
        },
        {
          "output_type": "display_data",
          "data": {
            "text/plain": [
              "<Figure size 432x288 with 1 Axes>"
            ],
            "image/png": "[encoded data removed]"
          },
          "metadata": {
            "needs_background": "light"
          }
        },
        {
          "output_type": "display_data",
          "data": {
            "text/plain": [
              "<Figure size 432x288 with 1 Axes>"
            ],
            "image/png": "[encoded data removed]"
          },
          "metadata": {
            "needs_background": "light"
          }
        }
      ],
      "source": [
        "for iter_, (image, label) in enumerate(zip(X, y)):\n",
        "    plt.imshow(image[:, :, 0], cmap='gray')\n",
        "    plt.title('Triangle' if label == 1 else 'Circle')\n",
        "    plt.show()\n",
        "    \n",
        "    if iter_ > 5:\n",
        "        break"
      ]
    },
    {
      "cell_type": "markdown",
      "metadata": {
        "id": "dQJGig7BCFVt"
      },
      "source": [
        "❓ **Question: How many classes are we going to predict** ❓\n",
        "\n",
        "_This information will help you design the last layer of your Convolutional Network_"
      ]
    },
    {
      "cell_type": "code",
      "execution_count": 6,
      "metadata": {
        "tags": [
          "challengify"
        ],
        "id": "xq2bbaW6CFVu"
      },
      "outputs": [],
      "source": [
        "# 2 classes"
      ]
    },
    {
      "cell_type": "markdown",
      "metadata": {
        "id": "GDVuAp4wCFVu"
      },
      "source": [
        "## (1) Kernels & Convolutions"
      ]
    },
    {
      "cell_type": "markdown",
      "metadata": {
        "id": "Q5RNgU5pCFVu"
      },
      "source": [
        "🎁 The following function **`compute_convolution`** performs a **convolution operation** $ \\Leftrightarrow $ i.e. *it applies a kernel to an image*."
      ]
    },
    {
      "cell_type": "markdown",
      "metadata": {
        "id": "MfIegn9RCFVv"
      },
      "source": [
        "❓ **Question about the `compute_convolution` function** ❓\n",
        "\n",
        "Run it and try to understand the different steps of this function."
      ]
    },
    {
      "cell_type": "code",
      "execution_count": 7,
      "metadata": {
        "id": "WbxE5lCqCFVv"
      },
      "outputs": [],
      "source": [
        "def compute_convolution(input_image, kernel):\n",
        "    # Parameters\n",
        "    kernel = np.array(kernel)\n",
        "    kernel_height, kernel_width = kernel.shape\n",
        "\n",
        "    img = np.squeeze(input_image) # Removes dimensions of size 1\n",
        "    img_height, img_width = img.shape\n",
        "    \n",
        "    output_image = []\n",
        "\n",
        "    for x in range(img_height - kernel_height + 1):\n",
        "        arr = []\n",
        "        \n",
        "        for y in range(img_width - kernel_width + 1):\n",
        "            \n",
        "            a = np.multiply(img[x: x + kernel_height, y: y + kernel_width],\n",
        "                            kernel)\n",
        "            arr.append(a.sum())\n",
        "            \n",
        "        output_image.append(arr)\n",
        "        \n",
        "    return output_image"
      ]
    },
    {
      "cell_type": "markdown",
      "metadata": {
        "id": "F-3NqV8aCFVw"
      },
      "source": [
        "❓ **How does the `compute_convolution` function work in practice** ❓ \n",
        "\n",
        "1. Choose any image from the input dataset\n",
        "2. Apply the `identity_kernel` to it\n",
        "3. Display both the input image and the output image. \n",
        "4. Do you see any differences?"
      ]
    },
    {
      "cell_type": "code",
      "execution_count": 8,
      "metadata": {
        "id": "2tbx5o2ICFVw"
      },
      "outputs": [],
      "source": [
        "identity_kernel = [\n",
        "    [0, 0, 0],\n",
        "    [0, 1, 0],\n",
        "    [0, 0, 0]\n",
        "]"
      ]
    },
    {
      "cell_type": "code",
      "execution_count": 9,
      "metadata": {
        "tags": [
          "challengify"
        ],
        "colab": {
          "base_uri": "https://localhost:8080/",
          "height": 229
        },
        "id": "IXVpBTipCFVw",
        "outputId": "f122c4e5-484a-482e-8ec9-b9d829811c82"
      },
      "outputs": [
        {
          "output_type": "execute_result",
          "data": {
            "text/plain": [
              "Text(0.5, 1.0, 'Input')"
            ]
          },
          "metadata": {},
          "execution_count": 9
        },
        {
          "output_type": "display_data",
          "data": {
            "text/plain": [
              "<Figure size 432x288 with 2 Axes>"
            ],
            "image/png": "[encoded data removed]"
          },
          "metadata": {
            "needs_background": "light"
          }
        }
      ],
      "source": [
        "output_img = compute_convolution(X[100],identity_kernel)\n",
        "fig, (ax1,ax2) = plt.subplots(1,2)\n",
        "ax1.imshow(output_img, cmap='gray');\n",
        "ax1.set_title('Output')\n",
        "#ax2.imshow(np.reshape(X[100],(76,78)), cmap='gray')\n",
        "ax2.imshow(np.squeeze(X[100]), cmap='gray')\n",
        "ax2.set_title('Input')"
      ]
    },
    {
      "cell_type": "markdown",
      "metadata": {
        "id": "FXZPtJ4DCFVx"
      },
      "source": [
        "<details>\n",
        "    <summary><i>Answer</i></summary>\n",
        "        \n",
        "🧑🏻‍🏫 The previous kernel corresponds to the **`identity_kernel`**, meaning that ***the output is equal to the input***... \n",
        "    \n",
        "🕵🏻‍♂️ It basically did nothing to the input image. It you think about it thoroughly, that's not surprising. With this kernel, only the pixel scanned in the middle was kept and multiplied by one, the surrounding pixels were multiplied by zero.        \n",
        "        \n",
        "</details>        "
      ]
    },
    {
      "cell_type": "markdown",
      "metadata": {
        "id": "A2o9KKc4CFVy"
      },
      "source": [
        "🎁 We coded a function **`plot_convolution`** that plots the output image after applying a kernel to an input image."
      ]
    },
    {
      "cell_type": "code",
      "execution_count": 10,
      "metadata": {
        "id": "Msrts0mNCFVz"
      },
      "outputs": [],
      "source": [
        "def plot_convolution(img, kernel, activation=False):\n",
        "    ''' The following printing function ease the visualization'''\n",
        "    \n",
        "    img = np.squeeze(img)\n",
        "    output_img = compute_convolution(img, kernel)\n",
        "    if activation:\n",
        "        output_img = np.maximum(output_img, 0)\n",
        "    \n",
        "    plt.figure(figsize=(10, 5))\n",
        "    \n",
        "    ax1 = plt.subplot2grid((3,3),(0,0), rowspan=3)\n",
        "    ax1.imshow(img, cmap='gray')\n",
        "    ax1.title.set_text('Input image')\n",
        "    \n",
        "    ax2 = plt.subplot2grid((3,3),(1, 1))\n",
        "    ax2.imshow(kernel, cmap='gray')\n",
        "    ax2.title.set_text('Kernel')    \n",
        "    \n",
        "    ax3 = plt.subplot2grid((3,3),(0, 2), rowspan=3)\n",
        "    ax3.imshow(output_img, cmap='gray')\n",
        "    ax3.title.set_text('Output image')    \n",
        "\n",
        "    for ax in [ax1, ax2, ax3]:\n",
        "        ax.axes.get_xaxis().set_visible(False)\n",
        "        ax.axes.get_yaxis().set_visible(False)\n",
        "        \n",
        "    plt.show()"
      ]
    },
    {
      "cell_type": "markdown",
      "metadata": {
        "id": "yg2xoVvwCFVz"
      },
      "source": [
        "❓ **Question** ❓ Apply `plot_convolution` with the following `kernel_1` once on an triangle and once on a circle.\n"
      ]
    },
    {
      "cell_type": "code",
      "execution_count": 11,
      "metadata": {
        "id": "e5DJ1jrACFV0"
      },
      "outputs": [],
      "source": [
        "kernel_1 = [\n",
        "    [1, 1, 1],\n",
        "    [0, 0, 0],\n",
        "    [-1, -1, -1]\n",
        "]"
      ]
    },
    {
      "cell_type": "code",
      "execution_count": 12,
      "metadata": {
        "tags": [
          "challengify"
        ],
        "colab": {
          "base_uri": "https://localhost:8080/",
          "height": 210
        },
        "id": "eYb-WYJ_CFV0",
        "outputId": "a06b214f-9ef8-4046-c04a-e1562142d02c"
      },
      "outputs": [
        {
          "output_type": "display_data",
          "data": {
            "text/plain": [
              "<Figure size 720x360 with 3 Axes>"
            ],
            "image/png": "[encoded data removed]"
          },
          "metadata": {
            "needs_background": "light"
          }
        }
      ],
      "source": [
        "plot_convolution(X[100],kernel_1)"
      ]
    },
    {
      "cell_type": "markdown",
      "metadata": {
        "id": "kEja85ndCFV0"
      },
      "source": [
        "👆 Let's analyze what just happened:\n",
        "\n",
        "* White pixels correspond to high values and black pixels to low values.\n",
        "* In a Neural Network, remember that we use activation functions to remove linearities. \n",
        "    * *For example*, when the activation function is `relu`, you already know that it simply corresponds to setting the negative values to 0.\n",
        "\n",
        "---\n",
        "\n",
        "❓ **What is the impact of the activation function in a Convolutional Layer ?** ❓\n",
        "\n",
        "Re-run the previous function `plot_convolution` with `activation` set to `True` (in this case, the activation function _is_ the relu)."
      ]
    },
    {
      "cell_type": "code",
      "source": [
        "layer_1."
      ],
      "metadata": {
        "colab": {
          "base_uri": "https://localhost:8080/",
          "height": 165
        },
        "id": "oL5L4gTapSLz",
        "outputId": "8c8b8dce-203b-472b-cdbb-74cd50d6fa88"
      },
      "execution_count": 75,
      "outputs": [
        {
          "output_type": "error",
          "ename": "TypeError",
          "evalue": "ignored",
          "traceback": [
            "\u001b[0;31m---------------------------------------------------------------------------\u001b[0m",
            "\u001b[0;31mTypeError\u001b[0m                                 Traceback (most recent call last)",
            "\u001b[0;32m<ipython-input-75-86458e03611f>\u001b[0m in \u001b[0;36m<module>\u001b[0;34m\u001b[0m\n\u001b[0;32m----> 1\u001b[0;31m \u001b[0mlayer_1\u001b[0m\u001b[0;34m.\u001b[0m\u001b[0mget_weights\u001b[0m\u001b[0;34m[\u001b[0m\u001b[0;36m0\u001b[0m\u001b[0;34m]\u001b[0m\u001b[0;34m\u001b[0m\u001b[0;34m\u001b[0m\u001b[0m\n\u001b[0m",
            "\u001b[0;31mTypeError\u001b[0m: 'method' object is not subscriptable"
          ]
        }
      ]
    },
    {
      "cell_type": "code",
      "execution_count": 13,
      "metadata": {
        "tags": [
          "challengify"
        ],
        "colab": {
          "base_uri": "https://localhost:8080/",
          "height": 210
        },
        "id": "-87br7dLCFV1",
        "outputId": "86a97e81-8ffb-4024-f100-e382c21c1ad8"
      },
      "outputs": [
        {
          "output_type": "display_data",
          "data": {
            "text/plain": [
              "<Figure size 720x360 with 3 Axes>"
            ],
            "image/png": "[encoded data removed]"
          },
          "metadata": {
            "needs_background": "light"
          }
        }
      ],
      "source": [
        "plot_convolution(X[100],kernel_1,activation=True)"
      ]
    },
    {
      "cell_type": "markdown",
      "metadata": {
        "id": "PyEnJKxLCFV1"
      },
      "source": [
        "👆 This kernel is actually highlighting the edges in a given direction. "
      ]
    },
    {
      "cell_type": "markdown",
      "metadata": {
        "id": "4B1K53PACFV1"
      },
      "source": [
        "❓ **Play with different kernels...** ❓\n",
        "\n",
        "Try the following kernels to check the different edges they can detect."
      ]
    },
    {
      "cell_type": "code",
      "execution_count": 14,
      "metadata": {
        "id": "B02tLx06CFV1"
      },
      "outputs": [],
      "source": [
        "kernel_2 = [\n",
        "    [-1, -1, -1],\n",
        "    [0, 0, 0],   \n",
        "    [1, 1, 1],\n",
        "]\n",
        "\n",
        "kernel_3 = [\n",
        "    [-1, 0, 1],\n",
        "    [-1, 0, 1],\n",
        "    [-1, 0, 1]\n",
        "]\n",
        "\n",
        "kernel_4 = [\n",
        "    [1, 0, -1],\n",
        "    [1, 0, -1],\n",
        "    [1, 0, -1]\n",
        "]"
      ]
    },
    {
      "cell_type": "code",
      "execution_count": 15,
      "metadata": {
        "tags": [
          "challengify"
        ],
        "colab": {
          "base_uri": "https://localhost:8080/",
          "height": 789
        },
        "id": "nQgnXjTxCFV2",
        "outputId": "6ed99e2d-d998-4885-ee6e-bf13f4d24f12"
      },
      "outputs": [
        {
          "output_type": "display_data",
          "data": {
            "text/plain": [
              "<Figure size 720x360 with 3 Axes>"
            ],
            "image/png": "[encoded data removed]"
          },
          "metadata": {
            "needs_background": "light"
          }
        },
        {
          "output_type": "display_data",
          "data": {
            "text/plain": [
              "<Figure size 720x360 with 3 Axes>"
            ],
            "image/png": "[encoded data removed]"
          },
          "metadata": {
            "needs_background": "light"
          }
        },
        {
          "output_type": "display_data",
          "data": {
            "text/plain": [
              "<Figure size 720x360 with 3 Axes>"
            ],
            "image/png": "[encoded data removed]"
          },
          "metadata": {
            "needs_background": "light"
          }
        },
        {
          "output_type": "display_data",
          "data": {
            "text/plain": [
              "<Figure size 720x360 with 3 Axes>"
            ],
            "image/png": "[encoded data removed]"
          },
          "metadata": {
            "needs_background": "light"
          }
        }
      ],
      "source": [
        "kernels = [kernel_1, kernel_2,kernel_3,kernel_4]\n",
        "\n",
        "for kernel in kernels:\n",
        "  plot_convolution(X[100],kernel=kernel,activation=True)\n",
        "  plt.show()"
      ]
    },
    {
      "cell_type": "markdown",
      "metadata": {
        "id": "qt_uPvNXCFV2"
      },
      "source": [
        "❓ **What is the effect of the kernel size** ❓\n",
        "\n",
        "Try the _kernel_big_."
      ]
    },
    {
      "cell_type": "code",
      "execution_count": 16,
      "metadata": {
        "colab": {
          "base_uri": "https://localhost:8080/"
        },
        "id": "QsUzl2cSCFV2",
        "outputId": "7b275b8e-5024-40f0-b2da-dbbc5713322e"
      },
      "outputs": [
        {
          "output_type": "execute_result",
          "data": {
            "text/plain": [
              "array([[ 1.,  1.,  1.,  1.,  1.,  1.,  1.,  1.,  1.,  1.],\n",
              "       [ 1.,  1.,  1.,  1.,  1.,  1.,  1.,  1.,  1.,  1.],\n",
              "       [ 1.,  1.,  1.,  1.,  1.,  1.,  1.,  1.,  1.,  1.],\n",
              "       [ 0.,  0.,  0.,  0.,  0.,  0.,  0.,  0.,  0.,  0.],\n",
              "       [ 0.,  0.,  0.,  0.,  0.,  0.,  0.,  0.,  0.,  0.],\n",
              "       [ 0.,  0.,  0.,  0.,  0.,  0.,  0.,  0.,  0.,  0.],\n",
              "       [ 0.,  0.,  0.,  0.,  0.,  0.,  0.,  0.,  0.,  0.],\n",
              "       [-1., -1., -1., -1., -1., -1., -1., -1., -1., -1.],\n",
              "       [-1., -1., -1., -1., -1., -1., -1., -1., -1., -1.],\n",
              "       [-1., -1., -1., -1., -1., -1., -1., -1., -1., -1.]])"
            ]
          },
          "metadata": {},
          "execution_count": 16
        }
      ],
      "source": [
        "kernel_big = np.array([\n",
        "    np.ones((10,)),\n",
        "    np.ones((10,)),\n",
        "    np.ones((10,)),\n",
        "    np.zeros((10,)),\n",
        "    np.zeros((10,)),\n",
        "    np.zeros((10,)),\n",
        "    np.zeros((10,)),\n",
        "    np.ones((10,))*-1,\n",
        "    np.ones((10,))*-1,\n",
        "    np.ones((10,))*-1,\n",
        "])\n",
        "\n",
        "kernel_big"
      ]
    },
    {
      "cell_type": "code",
      "execution_count": 17,
      "metadata": {
        "colab": {
          "base_uri": "https://localhost:8080/",
          "height": 210
        },
        "id": "7murfTx0CFV3",
        "outputId": "c2cdfb94-565d-4c86-b6c5-96ca52272470"
      },
      "outputs": [
        {
          "output_type": "display_data",
          "data": {
            "text/plain": [
              "<Figure size 720x360 with 3 Axes>"
            ],
            "image/png": "[encoded data removed]"
          },
          "metadata": {
            "needs_background": "light"
          }
        }
      ],
      "source": [
        "plot_convolution(X[100], kernel_big, activation=True)"
      ]
    },
    {
      "cell_type": "markdown",
      "metadata": {
        "id": "tC8Tr-zLCFV4"
      },
      "source": [
        "❓ **Try another kernel**  ❓"
      ]
    },
    {
      "cell_type": "code",
      "execution_count": 18,
      "metadata": {
        "colab": {
          "base_uri": "https://localhost:8080/",
          "height": 1000
        },
        "id": "lDQD_xSZCFV4",
        "outputId": "77e0c99c-4b5a-4d5b-cdd0-dc9c118f4187"
      },
      "outputs": [
        {
          "output_type": "display_data",
          "data": {
            "text/plain": [
              "<Figure size 720x360 with 3 Axes>"
            ],
            "image/png": "[encoded data removed]"
          },
          "metadata": {
            "needs_background": "light"
          }
        },
        {
          "output_type": "display_data",
          "data": {
            "text/plain": [
              "<Figure size 720x360 with 3 Axes>"
            ],
            "image/png": "[encoded data removed]"
          },
          "metadata": {
            "needs_background": "light"
          }
        },
        {
          "output_type": "display_data",
          "data": {
            "text/plain": [
              "<Figure size 720x360 with 3 Axes>"
            ],
            "image/png": "[encoded data removed]"
          },
          "metadata": {
            "needs_background": "light"
          }
        },
        {
          "output_type": "display_data",
          "data": {
            "text/plain": [
              "<Figure size 720x360 with 3 Axes>"
            ],
            "image/png": "[encoded data removed]"
          },
          "metadata": {
            "needs_background": "light"
          }
        },
        {
          "output_type": "display_data",
          "data": {
            "text/plain": [
              "<Figure size 720x360 with 3 Axes>"
            ],
            "image/png": "[encoded data removed]"
          },
          "metadata": {
            "needs_background": "light"
          }
        },
        {
          "output_type": "display_data",
          "data": {
            "text/plain": [
              "<Figure size 720x360 with 3 Axes>"
            ],
            "image/png": "[encoded data removed]"
          },
          "metadata": {
            "needs_background": "light"
          }
        },
        {
          "output_type": "display_data",
          "data": {
            "text/plain": [
              "<Figure size 720x360 with 3 Axes>"
            ],
            "image/png": "[encoded data removed]"
          },
          "metadata": {
            "needs_background": "light"
          }
        },
        {
          "output_type": "display_data",
          "data": {
            "text/plain": [
              "<Figure size 720x360 with 3 Axes>"
            ],
            "image/png": "[encoded data removed]"
          },
          "metadata": {
            "needs_background": "light"
          }
        },
        {
          "output_type": "display_data",
          "data": {
            "text/plain": [
              "<Figure size 720x360 with 3 Axes>"
            ],
            "image/png": "[encoded data removed]"
          },
          "metadata": {
            "needs_background": "light"
          }
        },
        {
          "output_type": "display_data",
          "data": {
            "text/plain": [
              "<Figure size 720x360 with 3 Axes>"
            ],
            "image/png": "[encoded data removed]"
          },
          "metadata": {
            "needs_background": "light"
          }
        },
        {
          "output_type": "display_data",
          "data": {
            "text/plain": [
              "<Figure size 720x360 with 3 Axes>"
            ],
            "image/png": "[encoded data removed]"
          },
          "metadata": {
            "needs_background": "light"
          }
        }
      ],
      "source": [
        "i = 0\n",
        "while i < 11:\n",
        "  random_kernel = np.random.uniform(-10, 10, (5, 5))\n",
        "  plot_convolution(X[100], random_kernel,activation=True)\n",
        "  i +=1"
      ]
    },
    {
      "cell_type": "markdown",
      "metadata": {
        "id": "2CN0VNYCCFV5"
      },
      "source": [
        "Now that you've got the idea of what a convolution operation does to an image, let's see how it goes with a \"real\" Convolutional Neural Network. ✅"
      ]
    },
    {
      "cell_type": "markdown",
      "metadata": {
        "id": "siyN2Te7CFV5"
      },
      "source": [
        "## (2) Training a CNN to detect triangles and circles"
      ]
    },
    {
      "cell_type": "markdown",
      "metadata": {
        "id": "x1iVnItrCFV5"
      },
      "source": [
        "### (2.1) Architecture"
      ]
    },
    {
      "cell_type": "markdown",
      "metadata": {
        "id": "DUsXmwv5CFV5"
      },
      "source": [
        "\n",
        "❓ **Question: Designing a CNN** ❓\n",
        "\n",
        "Write a Convolutional Network that has \n",
        "- a Convolutional Layer with 16 filters with $ (4, 4) $ kernels.\n",
        "- a Convolutional Layer with 32 filters with $ (3, 3) $ kernels.\n",
        "- a Convolutional Layer with 64 filters with $ (3, 3) $ kernels.\n",
        "- a Convolutional Layer with 64 filters with $ (2, 2) $ kernels.\n",
        "\n",
        "with:\n",
        "- A Max-Pooling Layer (with a $ (2, 2) $ pool-size) after each convolution.\n",
        "- A Hidden Dense Layer with the size of your choice, be reasonable:\n",
        "    - after the flattening part \n",
        "    - but before the last layer\n",
        "\n",
        "\n",
        "Also, make sure to compile your model with the appropriate parameters"
      ]
    },
    {
      "cell_type": "code",
      "source": [
        "X.shape"
      ],
      "metadata": {
        "colab": {
          "base_uri": "https://localhost:8080/"
        },
        "id": "6_uckq3oMbzZ",
        "outputId": "9c888fe3-cffe-4dad-b319-7f898a375f22"
      },
      "execution_count": 19,
      "outputs": [
        {
          "output_type": "execute_result",
          "data": {
            "text/plain": [
              "(200, 76, 78, 1)"
            ]
          },
          "metadata": {},
          "execution_count": 19
        }
      ]
    },
    {
      "cell_type": "code",
      "execution_count": 24,
      "metadata": {
        "id": "FWjHUWneCFV5"
      },
      "outputs": [],
      "source": [
        "from tensorflow.keras import layers, models\n",
        "\n",
        "def initialize_model():\n",
        "    \n",
        "    model = models.Sequential()\n",
        "    #Hi\n",
        "\n",
        "    model.add(layers.Conv2D(16,(4,4), activation='relu', input_shape=(76,78,1)))\n",
        "    model.add(layers.MaxPool2D(pool_size=(2,2)))\n",
        "\n",
        "    model.add(layers.Conv2D(32,(3,3), activation='relu'))\n",
        "    model.add(layers.MaxPool2D(pool_size=(2,2)))\n",
        "\n",
        "    model.add(layers.Conv2D(64,(3,3), activation='relu'))\n",
        "    model.add(layers.MaxPool2D(pool_size=(2,2)))\n",
        "\n",
        "    model.add(layers.Conv2D(64,(2,2), activation='relu'))\n",
        "    model.add(layers.MaxPool2D(pool_size=(2,2)))\n",
        "\n",
        "    model.add(layers.Flatten())\n",
        "\n",
        "    model.add(layers.Dense(10,activation='relu'))\n",
        "    \n",
        "    #Output layer 2 class\n",
        "\n",
        "    model.add(layers.Dense(1, activation='sigmoid'))\n",
        "\n",
        "    model.compile(optimizer='adam',\n",
        "                  loss='binary_crossentropy',\n",
        "                  metrics=['accuracy','Precision','Recall'])\n",
        "\n",
        "    \n",
        "    return model"
      ]
    },
    {
      "cell_type": "markdown",
      "metadata": {
        "id": "0AVldzpYCFV6"
      },
      "source": [
        "### (2.2) Training"
      ]
    },
    {
      "cell_type": "markdown",
      "metadata": {
        "id": "Mva92j7yCFV6"
      },
      "source": [
        "❓ **Question: Training the CNN** ❓\n",
        "\n",
        "* Fit the model. You should achieve a accuracy of *at least* 90%. \n",
        "\n",
        "    * When you reach such a high score, it may sound suspicious and you would probably ask yourself whether the model is overfitting or not... but let's ignore it for this challenge 😏"
      ]
    },
    {
      "cell_type": "code",
      "execution_count": 25,
      "metadata": {
        "tags": [
          "challengify"
        ],
        "colab": {
          "base_uri": "https://localhost:8080/"
        },
        "id": "xwKUvz6wCFV6",
        "outputId": "4ab7beb4-01a7-4435-e7c5-fdbc9a81139e"
      },
      "outputs": [
        {
          "output_type": "stream",
          "name": "stdout",
          "text": [
            "Epoch 1/100\n",
            "9/9 [==============================] - 2s 151ms/step - loss: 0.6939 - accuracy: 0.5929 - precision: 0.5625 - recall: 0.8873 - val_loss: 0.6861 - val_accuracy: 0.6333 - val_precision: 0.5686 - val_recall: 1.0000\n",
            "Epoch 2/100\n",
            "9/9 [==============================] - 1s 95ms/step - loss: 0.6706 - accuracy: 0.7286 - precision: 0.6737 - recall: 0.9014 - val_loss: 0.6591 - val_accuracy: 0.7333 - val_precision: 0.6444 - val_recall: 1.0000\n",
            "Epoch 3/100\n",
            "9/9 [==============================] - 1s 95ms/step - loss: 0.6100 - accuracy: 0.7857 - precision: 0.7595 - recall: 0.8451 - val_loss: 0.5957 - val_accuracy: 0.7167 - val_precision: 0.6304 - val_recall: 1.0000\n",
            "Epoch 4/100\n",
            "9/9 [==============================] - 1s 95ms/step - loss: 0.4849 - accuracy: 0.8000 - precision: 0.8028 - recall: 0.8028 - val_loss: 0.5741 - val_accuracy: 0.6667 - val_precision: 0.5918 - val_recall: 1.0000\n",
            "Epoch 5/100\n",
            "9/9 [==============================] - 1s 95ms/step - loss: 0.3524 - accuracy: 0.8429 - precision: 0.8025 - recall: 0.9155 - val_loss: 0.3989 - val_accuracy: 0.7833 - val_precision: 0.6905 - val_recall: 1.0000\n",
            "Epoch 6/100\n",
            "9/9 [==============================] - 1s 93ms/step - loss: 0.2261 - accuracy: 0.9286 - precision: 0.9296 - recall: 0.9296 - val_loss: 0.4323 - val_accuracy: 0.7833 - val_precision: 0.6905 - val_recall: 1.0000\n",
            "Epoch 7/100\n",
            "9/9 [==============================] - 1s 92ms/step - loss: 0.1513 - accuracy: 0.9571 - precision: 0.9333 - recall: 0.9859 - val_loss: 0.1797 - val_accuracy: 0.9333 - val_precision: 0.8788 - val_recall: 1.0000\n",
            "Epoch 8/100\n",
            "9/9 [==============================] - 1s 98ms/step - loss: 0.1021 - accuracy: 0.9500 - precision: 0.9211 - recall: 0.9859 - val_loss: 0.1234 - val_accuracy: 0.9667 - val_precision: 0.9355 - val_recall: 1.0000\n",
            "Epoch 9/100\n",
            "9/9 [==============================] - 1s 99ms/step - loss: 0.0716 - accuracy: 0.9786 - precision: 0.9722 - recall: 0.9859 - val_loss: 0.1774 - val_accuracy: 0.9000 - val_precision: 0.8286 - val_recall: 1.0000\n",
            "Epoch 10/100\n",
            "9/9 [==============================] - 1s 93ms/step - loss: 0.0425 - accuracy: 0.9857 - precision: 0.9859 - recall: 0.9859 - val_loss: 0.1311 - val_accuracy: 0.9167 - val_precision: 0.8529 - val_recall: 1.0000\n",
            "Epoch 11/100\n",
            "9/9 [==============================] - 1s 93ms/step - loss: 0.0323 - accuracy: 0.9929 - precision: 0.9861 - recall: 1.0000 - val_loss: 0.0618 - val_accuracy: 0.9833 - val_precision: 0.9667 - val_recall: 1.0000\n",
            "Epoch 12/100\n",
            "9/9 [==============================] - 1s 97ms/step - loss: 0.0140 - accuracy: 1.0000 - precision: 1.0000 - recall: 1.0000 - val_loss: 0.1330 - val_accuracy: 0.9167 - val_precision: 0.8529 - val_recall: 1.0000\n",
            "Epoch 13/100\n",
            "9/9 [==============================] - 1s 92ms/step - loss: 0.0112 - accuracy: 1.0000 - precision: 1.0000 - recall: 1.0000 - val_loss: 0.0435 - val_accuracy: 0.9667 - val_precision: 0.9355 - val_recall: 1.0000\n",
            "Epoch 14/100\n",
            "9/9 [==============================] - 1s 93ms/step - loss: 0.0058 - accuracy: 1.0000 - precision: 1.0000 - recall: 1.0000 - val_loss: 0.0761 - val_accuracy: 0.9667 - val_precision: 0.9355 - val_recall: 1.0000\n",
            "Epoch 15/100\n",
            "9/9 [==============================] - 1s 95ms/step - loss: 0.0048 - accuracy: 1.0000 - precision: 1.0000 - recall: 1.0000 - val_loss: 0.0745 - val_accuracy: 0.9667 - val_precision: 0.9355 - val_recall: 1.0000\n",
            "Epoch 16/100\n",
            "9/9 [==============================] - 1s 94ms/step - loss: 0.0042 - accuracy: 1.0000 - precision: 1.0000 - recall: 1.0000 - val_loss: 0.0380 - val_accuracy: 0.9667 - val_precision: 0.9355 - val_recall: 1.0000\n",
            "Epoch 17/100\n",
            "9/9 [==============================] - 1s 94ms/step - loss: 0.0026 - accuracy: 1.0000 - precision: 1.0000 - recall: 1.0000 - val_loss: 0.0824 - val_accuracy: 0.9667 - val_precision: 0.9355 - val_recall: 1.0000\n",
            "Epoch 18/100\n",
            "9/9 [==============================] - 1s 93ms/step - loss: 0.0026 - accuracy: 1.0000 - precision: 1.0000 - recall: 1.0000 - val_loss: 0.0357 - val_accuracy: 0.9667 - val_precision: 0.9355 - val_recall: 1.0000\n",
            "Epoch 19/100\n",
            "9/9 [==============================] - 1s 94ms/step - loss: 0.0016 - accuracy: 1.0000 - precision: 1.0000 - recall: 1.0000 - val_loss: 0.0512 - val_accuracy: 0.9667 - val_precision: 0.9355 - val_recall: 1.0000\n",
            "Epoch 20/100\n",
            "9/9 [==============================] - 1s 94ms/step - loss: 0.0014 - accuracy: 1.0000 - precision: 1.0000 - recall: 1.0000 - val_loss: 0.0584 - val_accuracy: 0.9667 - val_precision: 0.9355 - val_recall: 1.0000\n",
            "Epoch 21/100\n",
            "9/9 [==============================] - 1s 98ms/step - loss: 0.0015 - accuracy: 1.0000 - precision: 1.0000 - recall: 1.0000 - val_loss: 0.0356 - val_accuracy: 0.9667 - val_precision: 0.9355 - val_recall: 1.0000\n",
            "Epoch 22/100\n",
            "9/9 [==============================] - 1s 102ms/step - loss: 0.0012 - accuracy: 1.0000 - precision: 1.0000 - recall: 1.0000 - val_loss: 0.0543 - val_accuracy: 0.9667 - val_precision: 0.9355 - val_recall: 1.0000\n",
            "Epoch 23/100\n",
            "9/9 [==============================] - 1s 93ms/step - loss: 9.8832e-04 - accuracy: 1.0000 - precision: 1.0000 - recall: 1.0000 - val_loss: 0.0410 - val_accuracy: 0.9667 - val_precision: 0.9355 - val_recall: 1.0000\n",
            "Epoch 24/100\n",
            "9/9 [==============================] - 1s 98ms/step - loss: 8.1065e-04 - accuracy: 1.0000 - precision: 1.0000 - recall: 1.0000 - val_loss: 0.0457 - val_accuracy: 0.9667 - val_precision: 0.9355 - val_recall: 1.0000\n",
            "Epoch 25/100\n",
            "9/9 [==============================] - 1s 93ms/step - loss: 7.3627e-04 - accuracy: 1.0000 - precision: 1.0000 - recall: 1.0000 - val_loss: 0.0454 - val_accuracy: 0.9667 - val_precision: 0.9355 - val_recall: 1.0000\n",
            "Epoch 26/100\n",
            "9/9 [==============================] - 1s 95ms/step - loss: 6.9892e-04 - accuracy: 1.0000 - precision: 1.0000 - recall: 1.0000 - val_loss: 0.0416 - val_accuracy: 0.9667 - val_precision: 0.9355 - val_recall: 1.0000\n",
            "Epoch 27/100\n",
            "9/9 [==============================] - 1s 95ms/step - loss: 6.2059e-04 - accuracy: 1.0000 - precision: 1.0000 - recall: 1.0000 - val_loss: 0.0403 - val_accuracy: 0.9667 - val_precision: 0.9355 - val_recall: 1.0000\n",
            "Epoch 28/100\n",
            "9/9 [==============================] - 1s 97ms/step - loss: 5.6546e-04 - accuracy: 1.0000 - precision: 1.0000 - recall: 1.0000 - val_loss: 0.0424 - val_accuracy: 0.9667 - val_precision: 0.9355 - val_recall: 1.0000\n",
            "Epoch 29/100\n",
            "9/9 [==============================] - 1s 92ms/step - loss: 5.3655e-04 - accuracy: 1.0000 - precision: 1.0000 - recall: 1.0000 - val_loss: 0.0450 - val_accuracy: 0.9667 - val_precision: 0.9355 - val_recall: 1.0000\n",
            "Epoch 30/100\n",
            "9/9 [==============================] - 1s 94ms/step - loss: 5.0937e-04 - accuracy: 1.0000 - precision: 1.0000 - recall: 1.0000 - val_loss: 0.0355 - val_accuracy: 0.9667 - val_precision: 0.9355 - val_recall: 1.0000\n",
            "Epoch 31/100\n",
            "9/9 [==============================] - 1s 94ms/step - loss: 4.6168e-04 - accuracy: 1.0000 - precision: 1.0000 - recall: 1.0000 - val_loss: 0.0426 - val_accuracy: 0.9667 - val_precision: 0.9355 - val_recall: 1.0000\n",
            "Epoch 32/100\n",
            "9/9 [==============================] - 1s 96ms/step - loss: 4.1844e-04 - accuracy: 1.0000 - precision: 1.0000 - recall: 1.0000 - val_loss: 0.0382 - val_accuracy: 0.9667 - val_precision: 0.9355 - val_recall: 1.0000\n",
            "Epoch 33/100\n",
            "9/9 [==============================] - 1s 96ms/step - loss: 3.9036e-04 - accuracy: 1.0000 - precision: 1.0000 - recall: 1.0000 - val_loss: 0.0390 - val_accuracy: 0.9667 - val_precision: 0.9355 - val_recall: 1.0000\n",
            "Epoch 34/100\n",
            "9/9 [==============================] - 1s 96ms/step - loss: 3.6459e-04 - accuracy: 1.0000 - precision: 1.0000 - recall: 1.0000 - val_loss: 0.0404 - val_accuracy: 0.9667 - val_precision: 0.9355 - val_recall: 1.0000\n",
            "Epoch 35/100\n",
            "9/9 [==============================] - 1s 93ms/step - loss: 3.4430e-04 - accuracy: 1.0000 - precision: 1.0000 - recall: 1.0000 - val_loss: 0.0365 - val_accuracy: 0.9667 - val_precision: 0.9355 - val_recall: 1.0000\n",
            "Epoch 36/100\n",
            "9/9 [==============================] - 1s 97ms/step - loss: 3.2253e-04 - accuracy: 1.0000 - precision: 1.0000 - recall: 1.0000 - val_loss: 0.0380 - val_accuracy: 0.9667 - val_precision: 0.9355 - val_recall: 1.0000\n",
            "Epoch 37/100\n",
            "9/9 [==============================] - 1s 96ms/step - loss: 3.1715e-04 - accuracy: 1.0000 - precision: 1.0000 - recall: 1.0000 - val_loss: 0.0365 - val_accuracy: 0.9667 - val_precision: 0.9355 - val_recall: 1.0000\n",
            "Epoch 38/100\n",
            "9/9 [==============================] - 1s 94ms/step - loss: 2.9444e-04 - accuracy: 1.0000 - precision: 1.0000 - recall: 1.0000 - val_loss: 0.0437 - val_accuracy: 0.9667 - val_precision: 0.9355 - val_recall: 1.0000\n",
            "Epoch 39/100\n",
            "9/9 [==============================] - 1s 96ms/step - loss: 2.7244e-04 - accuracy: 1.0000 - precision: 1.0000 - recall: 1.0000 - val_loss: 0.0378 - val_accuracy: 0.9667 - val_precision: 0.9355 - val_recall: 1.0000\n",
            "Epoch 40/100\n",
            "9/9 [==============================] - 1s 96ms/step - loss: 2.5517e-04 - accuracy: 1.0000 - precision: 1.0000 - recall: 1.0000 - val_loss: 0.0365 - val_accuracy: 0.9667 - val_precision: 0.9355 - val_recall: 1.0000\n"
          ]
        }
      ],
      "source": [
        "from tensorflow.keras.callbacks import EarlyStopping\n",
        "model = initialize_model()\n",
        "es = EarlyStopping(patience=10,restore_best_weights=True)\n",
        "\n",
        "history = model.fit(X,y,batch_size=16,epochs=100, validation_split=0.3, callbacks=[es])"
      ]
    },
    {
      "cell_type": "markdown",
      "metadata": {
        "id": "oJCkfdalCFV6"
      },
      "source": [
        "🎁 We coded the `plot_loss_accuracy` for you.\n",
        "\n",
        "❓ **Question: does the CNN converge** ❓\n",
        "\n",
        "_Also, do you see any sign of overfitting?_"
      ]
    },
    {
      "cell_type": "code",
      "execution_count": 26,
      "metadata": {
        "id": "MXskn0woCFV6"
      },
      "outputs": [],
      "source": [
        "def plot_loss_accuracy(history, title=None):\n",
        "    fig, ax = plt.subplots(1,2, figsize=(20,7))\n",
        "    \n",
        "    # --- LOSS --- \n",
        "    \n",
        "    ax[0].plot(history.history['loss'])\n",
        "    ax[0].plot(history.history['val_loss'])\n",
        "    ax[0].set_title('Model loss')\n",
        "    ax[0].set_ylabel('Loss')\n",
        "    ax[0].set_xlabel('Epoch')\n",
        "    ax[0].set_ylim((0,3))\n",
        "    ax[0].legend(['Train', 'Test'], loc='best')\n",
        "    ax[0].grid(axis=\"x\",linewidth=0.5)\n",
        "    ax[0].grid(axis=\"y\",linewidth=0.5)\n",
        "    \n",
        "    # --- ACCURACY\n",
        "    \n",
        "    ax[1].plot(history.history['accuracy'])\n",
        "    ax[1].plot(history.history['val_accuracy'])\n",
        "    ax[1].set_title('Model Accuracy')\n",
        "    ax[1].set_ylabel('Accuracy')\n",
        "    ax[1].set_xlabel('Epoch')\n",
        "    ax[1].legend(['Train', 'Test'], loc='best')\n",
        "    ax[1].set_ylim((0,1))\n",
        "    ax[1].grid(axis=\"x\",linewidth=0.5)\n",
        "    ax[1].grid(axis=\"y\",linewidth=0.5)\n",
        "    \n",
        "    if title:\n",
        "        fig.suptitle(title)"
      ]
    },
    {
      "cell_type": "code",
      "execution_count": 27,
      "metadata": {
        "tags": [
          "challengify"
        ],
        "colab": {
          "base_uri": "https://localhost:8080/",
          "height": 458
        },
        "id": "e-2gLMjBCFV7",
        "outputId": "198767f9-f8fe-4c0e-8b3e-d39717b55446"
      },
      "outputs": [
        {
          "output_type": "display_data",
          "data": {
            "text/plain": [
              "<Figure size 1440x504 with 2 Axes>"
            ],
            "image/png": "[encoded data removed]"
          },
          "metadata": {
            "needs_background": "light"
          }
        }
      ],
      "source": [
        "plot_loss_accuracy(history)"
      ]
    },
    {
      "cell_type": "markdown",
      "metadata": {
        "id": "bg7o47lbCFV7"
      },
      "source": [
        "👏 Congratulations! After running a CNN to classify handwritten digits, you were able to design another to classify images either as triangles or circles!\n",
        "\n",
        "😏 However, you have probably guessed that Computer Vision is obviously more complex than that...\n",
        "\n",
        "📆 In `Challenge 3 - CIFAR10`, you will try to classify images between 10 categories.\n",
        "\n",
        "📚 The last section of this notebook will help you build a deeper understanding of CNN. **Read `(2.3) Deeper understanding of CNN` very carefully** before moving on the next challenge!"
      ]
    },
    {
      "cell_type": "markdown",
      "metadata": {
        "id": "vqXwxacwCFV8"
      },
      "source": [
        "### 🎁 📚 (2.3) Deeper understanding of CNNs"
      ]
    },
    {
      "cell_type": "markdown",
      "metadata": {
        "id": "rwWFkQJnCFV8"
      },
      "source": [
        "👩🏻‍🏫 For any Sequential Neural Network (Dense or Convolutional), you can:\n",
        "- print the **`.summary()`** to display the layers and the number of weights/parameters involved\n",
        "- access the different **`.layers`** of your model"
      ]
    },
    {
      "cell_type": "code",
      "execution_count": 28,
      "metadata": {
        "colab": {
          "base_uri": "https://localhost:8080/"
        },
        "id": "vWJKK8GaCFV8",
        "outputId": "6d341d3f-7cf7-4799-aff7-efa61baeade0"
      },
      "outputs": [
        {
          "output_type": "stream",
          "name": "stdout",
          "text": [
            "Model: \"sequential_1\"\n",
            "_________________________________________________________________\n",
            " Layer (type)                Output Shape              Param #   \n",
            "=================================================================\n",
            " conv2d_4 (Conv2D)           (None, 73, 75, 16)        272       \n",
            "                                                                 \n",
            " max_pooling2d_4 (MaxPooling  (None, 36, 37, 16)       0         \n",
            " 2D)                                                             \n",
            "                                                                 \n",
            " conv2d_5 (Conv2D)           (None, 34, 35, 32)        4640      \n",
            "                                                                 \n",
            " max_pooling2d_5 (MaxPooling  (None, 17, 17, 32)       0         \n",
            " 2D)                                                             \n",
            "                                                                 \n",
            " conv2d_6 (Conv2D)           (None, 15, 15, 64)        18496     \n",
            "                                                                 \n",
            " max_pooling2d_6 (MaxPooling  (None, 7, 7, 64)         0         \n",
            " 2D)                                                             \n",
            "                                                                 \n",
            " conv2d_7 (Conv2D)           (None, 6, 6, 64)          16448     \n",
            "                                                                 \n",
            " max_pooling2d_7 (MaxPooling  (None, 3, 3, 64)         0         \n",
            " 2D)                                                             \n",
            "                                                                 \n",
            " flatten_1 (Flatten)         (None, 576)               0         \n",
            "                                                                 \n",
            " dense_2 (Dense)             (None, 10)                5770      \n",
            "                                                                 \n",
            " dense_3 (Dense)             (None, 1)                 11        \n",
            "                                                                 \n",
            "=================================================================\n",
            "Total params: 45,637\n",
            "Trainable params: 45,637\n",
            "Non-trainable params: 0\n",
            "_________________________________________________________________\n"
          ]
        }
      ],
      "source": [
        "model.summary()"
      ]
    },
    {
      "cell_type": "code",
      "execution_count": 29,
      "metadata": {
        "colab": {
          "base_uri": "https://localhost:8080/"
        },
        "id": "ZafOMeLiCFV8",
        "outputId": "8884a000-f582-4d84-814e-a4813e910c50"
      },
      "outputs": [
        {
          "output_type": "execute_result",
          "data": {
            "text/plain": [
              "[<keras.layers.convolutional.conv2d.Conv2D at 0x7f85690d8a90>,\n",
              " <keras.layers.pooling.max_pooling2d.MaxPooling2D at 0x7f84ff699810>,\n",
              " <keras.layers.convolutional.conv2d.Conv2D at 0x7f84ff6407d0>,\n",
              " <keras.layers.pooling.max_pooling2d.MaxPooling2D at 0x7f84f95e0750>,\n",
              " <keras.layers.convolutional.conv2d.Conv2D at 0x7f84fdfc7690>,\n",
              " <keras.layers.pooling.max_pooling2d.MaxPooling2D at 0x7f84fdfc5690>,\n",
              " <keras.layers.convolutional.conv2d.Conv2D at 0x7f84ff655c10>,\n",
              " <keras.layers.pooling.max_pooling2d.MaxPooling2D at 0x7f84ff657390>,\n",
              " <keras.layers.reshaping.flatten.Flatten at 0x7f84ff653e50>,\n",
              " <keras.layers.core.dense.Dense at 0x7f84ff657f90>,\n",
              " <keras.layers.core.dense.Dense at 0x7f84ff64ee10>]"
            ]
          },
          "metadata": {},
          "execution_count": 29
        }
      ],
      "source": [
        "model.layers"
      ]
    },
    {
      "cell_type": "markdown",
      "metadata": {
        "id": "Qr_YXXnlCFV9"
      },
      "source": [
        "🕵️‍♀️ With the following table, you will have a better overview of the different weights, kernels and filters involved in the CNN you've built earlier:\n",
        "\n",
        "| layer_number | convolution_layer | kernel_number | channel_number |\n",
        "|--------------|-------------------|---------------|----------------|\n",
        "| 0            | conv2D no 1       | 16            | 1              |\n",
        "| 2            | conv2D no 2       | 32            | 16             |\n",
        "| 4            | conv2D no 3       | 64            | 32             |\n",
        "| 6            | conv2D no 4       | 64            | 64             |"
      ]
    },
    {
      "cell_type": "markdown",
      "metadata": {
        "id": "T4fgGZyXCFV9"
      },
      "source": [
        "#### (2.3.1) Kernels"
      ]
    },
    {
      "cell_type": "markdown",
      "metadata": {
        "id": "_CVg6woZCFV9"
      },
      "source": [
        "🧑🏻‍🏫 It is possible to **retrieve the values of all the kernels for each layer after training a CNN**. \n",
        "\n",
        "👉 Let's focus first on the different parameters (**`.weights`**) of the first convolutional layer."
      ]
    },
    {
      "cell_type": "code",
      "execution_count": 30,
      "metadata": {
        "colab": {
          "base_uri": "https://localhost:8080/"
        },
        "id": "ZlCePfuwCFV9",
        "outputId": "24364240-1aa7-462d-95f8-b0c102dc8125"
      },
      "outputs": [
        {
          "output_type": "execute_result",
          "data": {
            "text/plain": [
              "<keras.layers.convolutional.conv2d.Conv2D at 0x7f85690d8a90>"
            ]
          },
          "metadata": {},
          "execution_count": 30
        }
      ],
      "source": [
        "# Accessing the first convolutional layer of the CNN\n",
        "first_convolutional_layer = model.layers[0]\n",
        "first_convolutional_layer"
      ]
    },
    {
      "cell_type": "code",
      "execution_count": 31,
      "metadata": {
        "colab": {
          "base_uri": "https://localhost:8080/"
        },
        "id": "XDsSBFZ_CFV-",
        "outputId": "55181cd1-e052-49b8-d975-3024658f492c"
      },
      "outputs": [
        {
          "output_type": "execute_result",
          "data": {
            "text/plain": [
              "TensorShape([4, 4, 1, 16])"
            ]
          },
          "metadata": {},
          "execution_count": 31
        }
      ],
      "source": [
        "# Weights of the first convolutional layer of the CNN - which was trained/optimized\n",
        "first_convolutional_layer.weights[0].shape"
      ]
    },
    {
      "cell_type": "markdown",
      "metadata": {
        "id": "je8sDsX2CFV-"
      },
      "source": [
        "👆 `TensorShape[4, 4, 1, 16]` represents:\n",
        "- the weights of each kernel (size `4` $\\times$ `4`)\n",
        "- there was only `1` channel (single B&W input)\n",
        "- and we have decided to apply `16` different kernels in this layer!"
      ]
    },
    {
      "cell_type": "code",
      "execution_count": 32,
      "metadata": {
        "colab": {
          "base_uri": "https://localhost:8080/"
        },
        "id": "k2TGjj6xCFV-",
        "outputId": "6d96d43e-fcfb-4f46-e67f-b0f535eda48c"
      },
      "outputs": [
        {
          "output_type": "execute_result",
          "data": {
            "text/plain": [
              "TensorShape([16])"
            ]
          },
          "metadata": {},
          "execution_count": 32
        }
      ],
      "source": [
        "# Biases of the first convolutional layer of the CNN - which was trained/optimized\n",
        "first_convolutional_layer.weights[1].shape"
      ]
    },
    {
      "cell_type": "markdown",
      "metadata": {
        "id": "ApPGbtoeCFV_"
      },
      "source": [
        "👆 Let's not forget the biases, one per new channel in the output image!"
      ]
    },
    {
      "cell_type": "code",
      "execution_count": 33,
      "metadata": {
        "colab": {
          "base_uri": "https://localhost:8080/"
        },
        "id": "8n1xXHzvCFV_",
        "outputId": "5af0a1dc-44b2-4a91-b19a-147e6caa5cb2"
      },
      "outputs": [
        {
          "output_type": "execute_result",
          "data": {
            "text/plain": [
              "272"
            ]
          },
          "metadata": {},
          "execution_count": 33
        }
      ],
      "source": [
        "# Notice that we have indeed 256 weights + 16 biases = 272 parameters for the first convolutional layer\n",
        "4*4*1*16+16"
      ]
    },
    {
      "cell_type": "markdown",
      "metadata": {
        "tags": [
          "challengify"
        ],
        "id": "6T968rf6CFV_"
      },
      "source": [
        "> YOUR ANSWER HERE"
      ]
    },
    {
      "cell_type": "code",
      "execution_count": 34,
      "metadata": {
        "colab": {
          "base_uri": "https://localhost:8080/"
        },
        "id": "UkI0CdlPCFWA",
        "outputId": "0a778211-7f7f-4c6c-d0a3-1cdce70f86e0"
      },
      "outputs": [
        {
          "output_type": "execute_result",
          "data": {
            "text/plain": [
              "<keras.layers.convolutional.conv2d.Conv2D at 0x7f84ff6407d0>"
            ]
          },
          "metadata": {},
          "execution_count": 34
        }
      ],
      "source": [
        "# Accessing the second convolutional layer of the CNN\n",
        "second_convolutional_layer = model.layers[2]\n",
        "second_convolutional_layer"
      ]
    },
    {
      "cell_type": "code",
      "execution_count": 35,
      "metadata": {
        "colab": {
          "base_uri": "https://localhost:8080/"
        },
        "id": "yC0VU6EICFWA",
        "outputId": "329db8e0-08d7-4a5c-801c-0c2759da8fa1"
      },
      "outputs": [
        {
          "output_type": "execute_result",
          "data": {
            "text/plain": [
              "TensorShape([3, 3, 16, 32])"
            ]
          },
          "metadata": {},
          "execution_count": 35
        }
      ],
      "source": [
        "# Weights of the second convolutional layer of the CNN - which was trained/optimized\n",
        "second_convolutional_layer.weights[0].shape"
      ]
    },
    {
      "cell_type": "code",
      "execution_count": 36,
      "metadata": {
        "colab": {
          "base_uri": "https://localhost:8080/"
        },
        "id": "LlVRMOfiCFWA",
        "outputId": "19323ad6-4331-4c1c-9688-d9f58c6c9c6f"
      },
      "outputs": [
        {
          "output_type": "execute_result",
          "data": {
            "text/plain": [
              "TensorShape([32])"
            ]
          },
          "metadata": {},
          "execution_count": 36
        }
      ],
      "source": [
        "# Biases of the second convolutional layer of the CNN - which was trained/optimized\n",
        "second_convolutional_layer.weights[1].shape"
      ]
    },
    {
      "cell_type": "code",
      "execution_count": 37,
      "metadata": {
        "colab": {
          "base_uri": "https://localhost:8080/"
        },
        "id": "u0VW4kp2CFWB",
        "outputId": "27ef27d7-a871-4d2a-da09-3d0775f6f850"
      },
      "outputs": [
        {
          "output_type": "execute_result",
          "data": {
            "text/plain": [
              "4640"
            ]
          },
          "metadata": {},
          "execution_count": 37
        }
      ],
      "source": [
        "# Notice that we have indeed 4608 weights + 32 biases = 4640 parameters for the third convolutional layer\n",
        "3*3*16*32+32"
      ]
    },
    {
      "cell_type": "code",
      "execution_count": 38,
      "metadata": {
        "colab": {
          "base_uri": "https://localhost:8080/"
        },
        "id": "KUSxHN-gCFWB",
        "outputId": "7426f415-f845-4c8f-ea72-b60f02d812ef"
      },
      "outputs": [
        {
          "output_type": "execute_result",
          "data": {
            "text/plain": [
              "<keras.layers.convolutional.conv2d.Conv2D at 0x7f84fdfc7690>"
            ]
          },
          "metadata": {},
          "execution_count": 38
        }
      ],
      "source": [
        "# Accessing the third convolutional layer of the CNN\n",
        "third_convolutional_layer = model.layers[4]\n",
        "third_convolutional_layer"
      ]
    },
    {
      "cell_type": "code",
      "execution_count": 39,
      "metadata": {
        "colab": {
          "base_uri": "https://localhost:8080/"
        },
        "id": "hWG0VwpcCFWC",
        "outputId": "0a2ca484-dd44-4e2f-fe3e-2766a413b377"
      },
      "outputs": [
        {
          "output_type": "execute_result",
          "data": {
            "text/plain": [
              "TensorShape([3, 3, 32, 64])"
            ]
          },
          "metadata": {},
          "execution_count": 39
        }
      ],
      "source": [
        "# Weights of the third convolutional layer of the CNN - which was trained/optimized\n",
        "third_convolutional_layer.weights[0].shape"
      ]
    },
    {
      "cell_type": "code",
      "execution_count": 40,
      "metadata": {
        "colab": {
          "base_uri": "https://localhost:8080/"
        },
        "id": "OQZm8XFxCFWC",
        "outputId": "e08f84e3-e081-4b90-a7de-bf98af0db50f"
      },
      "outputs": [
        {
          "output_type": "execute_result",
          "data": {
            "text/plain": [
              "TensorShape([64])"
            ]
          },
          "metadata": {},
          "execution_count": 40
        }
      ],
      "source": [
        "# Biases of the third convolutional layer of the CNN - which was trained/optimized\n",
        "third_convolutional_layer.weights[1].shape"
      ]
    },
    {
      "cell_type": "code",
      "execution_count": null,
      "metadata": {
        "id": "6-OJGSrDCFWC"
      },
      "outputs": [],
      "source": [
        "# Notice that we have indeed 18432 weights + 64 biases = 18496 parameters for the fourth convolutional layer\n",
        "3*3*32*64+64"
      ]
    },
    {
      "cell_type": "code",
      "execution_count": 41,
      "metadata": {
        "colab": {
          "base_uri": "https://localhost:8080/"
        },
        "id": "AWVp5SmJCFWD",
        "outputId": "4362ecbd-774e-4ebe-bdd4-42c7ef69441d"
      },
      "outputs": [
        {
          "output_type": "execute_result",
          "data": {
            "text/plain": [
              "<keras.layers.convolutional.conv2d.Conv2D at 0x7f84ff655c10>"
            ]
          },
          "metadata": {},
          "execution_count": 41
        }
      ],
      "source": [
        "# Accessing the fourth convolutional layer of the CNN\n",
        "fourth_convolutional_layer = model.layers[6]\n",
        "fourth_convolutional_layer"
      ]
    },
    {
      "cell_type": "code",
      "execution_count": 42,
      "metadata": {
        "colab": {
          "base_uri": "https://localhost:8080/"
        },
        "id": "cPwS-wZ0CFWD",
        "outputId": "6be45d71-9448-4c12-973e-05274a004a20"
      },
      "outputs": [
        {
          "output_type": "execute_result",
          "data": {
            "text/plain": [
              "TensorShape([2, 2, 64, 64])"
            ]
          },
          "metadata": {},
          "execution_count": 42
        }
      ],
      "source": [
        "# Weights of the fourth convolutional layer of the CNN - which was trained/optimized\n",
        "fourth_convolutional_layer.weights[0].shape"
      ]
    },
    {
      "cell_type": "code",
      "execution_count": 43,
      "metadata": {
        "colab": {
          "base_uri": "https://localhost:8080/"
        },
        "id": "j9gPASJHCFWD",
        "outputId": "b1b52270-2585-4fbd-da90-61bbbfa02cc0"
      },
      "outputs": [
        {
          "output_type": "execute_result",
          "data": {
            "text/plain": [
              "TensorShape([64])"
            ]
          },
          "metadata": {},
          "execution_count": 43
        }
      ],
      "source": [
        "# Biases of the fourth convolutional layer of the CNN - which was trained/optimized\n",
        "fourth_convolutional_layer.weights[1].shape"
      ]
    },
    {
      "cell_type": "code",
      "execution_count": 44,
      "metadata": {
        "colab": {
          "base_uri": "https://localhost:8080/"
        },
        "id": "RsPM5XWjCFWD",
        "outputId": "2f178a3c-3d9e-4a4d-a85b-cbc265276a9a"
      },
      "outputs": [
        {
          "output_type": "execute_result",
          "data": {
            "text/plain": [
              "18496"
            ]
          },
          "metadata": {},
          "execution_count": 44
        }
      ],
      "source": [
        "# Notice that we have indeed 16384 weights + 64 biases = 16448 parameters for the fourth convolutional layer\n",
        "3*3*32*64+64"
      ]
    },
    {
      "cell_type": "markdown",
      "metadata": {
        "id": "CgsWRJxLCFWE"
      },
      "source": [
        "🚀 Now that we know how to access the trained weights of each kernel for every convolutional layer, we are going to investigate how they impact the analysis of images.\n",
        "\n",
        "* 🪄 Using **`plot_convolution(activation = True)`**, let's display the 16 kernels from the first convolutional layer, alongside with the activation output, to see what the model has learned from the images in this layer."
      ]
    },
    {
      "cell_type": "code",
      "execution_count": 121,
      "metadata": {
        "tags": [
          "challengify"
        ],
        "colab": {
          "base_uri": "https://localhost:8080/",
          "height": 1000
        },
        "id": "x26srGfiCFWE",
        "outputId": "f861e865-d197-4f5e-da1b-382bdfafd0ed"
      },
      "outputs": [
        {
          "output_type": "display_data",
          "data": {
            "text/plain": [
              "<Figure size 720x360 with 3 Axes>"
            ],
            "image/png": "[encoded data removed]"
          },
          "metadata": {
            "needs_background": "light"
          }
        },
        {
          "output_type": "display_data",
          "data": {
            "text/plain": [
              "<Figure size 720x360 with 3 Axes>"
            ],
            "image/png": "[encoded data removed]"
          },
          "metadata": {
            "needs_background": "light"
          }
        },
        {
          "output_type": "display_data",
          "data": {
            "text/plain": [
              "<Figure size 720x360 with 3 Axes>"
            ],
            "image/png": "[encoded data removed]"
          },
          "metadata": {
            "needs_background": "light"
          }
        },
        {
          "output_type": "display_data",
          "data": {
            "text/plain": [
              "<Figure size 720x360 with 3 Axes>"
            ],
            "image/png": "[encoded data removed]"
          },
          "metadata": {
            "needs_background": "light"
          }
        },
        {
          "output_type": "display_data",
          "data": {
            "text/plain": [
              "<Figure size 720x360 with 3 Axes>"
            ],
            "image/png": "[encoded data removed]"
          },
          "metadata": {
            "needs_background": "light"
          }
        },
        {
          "output_type": "display_data",
          "data": {
            "text/plain": [
              "<Figure size 720x360 with 3 Axes>"
            ],
            "image/png": "[encoded data removed]"
          },
          "metadata": {
            "needs_background": "light"
          }
        },
        {
          "output_type": "display_data",
          "data": {
            "text/plain": [
              "<Figure size 720x360 with 3 Axes>"
            ],
            "image/png": "[encoded data removed]"
          },
          "metadata": {
            "needs_background": "light"
          }
        },
        {
          "output_type": "display_data",
          "data": {
            "text/plain": [
              "<Figure size 720x360 with 3 Axes>"
            ],
            "image/png": "[encoded data removed]"
          },
          "metadata": {
            "needs_background": "light"
          }
        },
        {
          "output_type": "display_data",
          "data": {
            "text/plain": [
              "<Figure size 720x360 with 3 Axes>"
            ],
            "image/png": "[encoded data removed]"
          },
          "metadata": {
            "needs_background": "light"
          }
        },
        {
          "output_type": "display_data",
          "data": {
            "text/plain": [
              "<Figure size 720x360 with 3 Axes>"
            ],
            "image/png": "[encoded data removed]"
          },
          "metadata": {
            "needs_background": "light"
          }
        },
        {
          "output_type": "display_data",
          "data": {
            "text/plain": [
              "<Figure size 720x360 with 3 Axes>"
            ],
            "image/png": "[encoded data removed]"
          },
          "metadata": {
            "needs_background": "light"
          }
        },
        {
          "output_type": "display_data",
          "data": {
            "text/plain": [
              "<Figure size 720x360 with 3 Axes>"
            ],
            "image/png": "[encoded data removed]"
          },
          "metadata": {
            "needs_background": "light"
          }
        },
        {
          "output_type": "display_data",
          "data": {
            "text/plain": [
              "<Figure size 720x360 with 3 Axes>"
            ],
            "image/png": "[encoded data removed]"
          },
          "metadata": {
            "needs_background": "light"
          }
        },
        {
          "output_type": "display_data",
          "data": {
            "text/plain": [
              "<Figure size 720x360 with 3 Axes>"
            ],
            "image/png": "[encoded data removed]"
          },
          "metadata": {
            "needs_background": "light"
          }
        },
        {
          "output_type": "display_data",
          "data": {
            "text/plain": [
              "<Figure size 720x360 with 3 Axes>"
            ],
            "image/png": "[encoded data removed]"
          },
          "metadata": {
            "needs_background": "light"
          }
        },
        {
          "output_type": "display_data",
          "data": {
            "text/plain": [
              "<Figure size 720x360 with 3 Axes>"
            ],
            "image/png": "[encoded data removed]"
          },
          "metadata": {
            "needs_background": "light"
          }
        }
      ],
      "source": [
        "for k in range(0,16):\n",
        "  kernel = layer_1.weights[0][:,:,0,k]\n",
        "  plot_convolution(X[100],kernel = kernel, activation=True)"
      ]
    },
    {
      "cell_type": "code",
      "source": [
        "layer_1 = model.layers[0]\n",
        "layer_1.weights[0]"
      ],
      "metadata": {
        "colab": {
          "base_uri": "https://localhost:8080/"
        },
        "id": "c-bkSPtloAoc",
        "outputId": "23a03418-9ca1-405e-a60e-7a9eeeeb2974"
      },
      "execution_count": 117,
      "outputs": [
        {
          "output_type": "execute_result",
          "data": {
            "text/plain": [
              "<tf.Variable 'conv2d_4/kernel:0' shape=(4, 4, 1, 16) dtype=float32, numpy=\n",
              "array([[[[-0.11808741, -0.08316551, -0.00502532,  0.13998556,\n",
              "          -0.0905305 , -0.03072787,  0.07911184,  0.12039191,\n",
              "           0.22352512, -0.10610113, -0.03236653,  0.05387227,\n",
              "           0.12859423, -0.01607927, -0.06059797,  0.04032714]],\n",
              "\n",
              "        [[-0.15842964,  0.09977283,  0.12221874, -0.01715294,\n",
              "          -0.20878197, -0.0143731 ,  0.12052393, -0.08125771,\n",
              "           0.04830369, -0.11961997,  0.04179153,  0.08249009,\n",
              "           0.04029986, -0.00232858,  0.07695177,  0.06178968]],\n",
              "\n",
              "        [[-0.04513691, -0.00531139,  0.11710896, -0.17319584,\n",
              "          -0.10673419, -0.00195972,  0.08760477,  0.02165161,\n",
              "           0.18405366, -0.09426561, -0.11715277, -0.06369992,\n",
              "           0.00436318,  0.03585127,  0.01918012, -0.05099496]],\n",
              "\n",
              "        [[-0.02409925, -0.00116821,  0.00436966, -0.15383483,\n",
              "          -0.08919168,  0.1327835 ,  0.11044762, -0.10741442,\n",
              "          -0.04235042,  0.09995227, -0.15352248,  0.15673241,\n",
              "          -0.10440577, -0.17677401,  0.10507601, -0.07418121]]],\n",
              "\n",
              "\n",
              "       [[[ 0.06738885, -0.11982469,  0.16759518, -0.02392307,\n",
              "          -0.02953635,  0.03202825, -0.02734812,  0.07318775,\n",
              "          -0.0595286 , -0.15654157,  0.12158948, -0.02570277,\n",
              "           0.08395672,  0.01758419, -0.03271362, -0.09562227]],\n",
              "\n",
              "        [[ 0.0321182 ,  0.03271938,  0.19127679,  0.14873642,\n",
              "           0.05789163, -0.04534736,  0.07969329,  0.1259496 ,\n",
              "          -0.04664296, -0.09440588, -0.07558282, -0.15673935,\n",
              "          -0.05551568,  0.15436116, -0.05900504,  0.08413279]],\n",
              "\n",
              "        [[ 0.08419691,  0.05303996,  0.0981326 ,  0.0371687 ,\n",
              "          -0.16450576,  0.13449824,  0.05969116, -0.10475406,\n",
              "           0.0863034 , -0.02993778, -0.01599178,  0.06971896,\n",
              "           0.01642828,  0.01106708,  0.03374735, -0.15476812]],\n",
              "\n",
              "        [[-0.04290489, -0.03123386,  0.14891149,  0.05240718,\n",
              "           0.12805526,  0.14051773, -0.04842066, -0.07890549,\n",
              "           0.17674819,  0.15629202, -0.06807103, -0.0248208 ,\n",
              "           0.04621064, -0.14904453, -0.13088487,  0.10616153]]],\n",
              "\n",
              "\n",
              "       [[[-0.04325495,  0.0490665 ,  0.20086353, -0.01410381,\n",
              "           0.19695337, -0.11703318,  0.06502365,  0.18860793,\n",
              "          -0.11818448, -0.1518597 ,  0.16571894, -0.1158024 ,\n",
              "           0.16197658, -0.01041089,  0.01568102, -0.03987946]],\n",
              "\n",
              "        [[ 0.0170156 , -0.10783016,  0.20352837,  0.10948299,\n",
              "          -0.13658088,  0.07301259,  0.1594686 ,  0.05410222,\n",
              "           0.06297816,  0.11498178, -0.01507769, -0.08189703,\n",
              "           0.04239921,  0.12526636, -0.03343917,  0.01945322]],\n",
              "\n",
              "        [[ 0.15085773,  0.16085592, -0.04832242, -0.11485909,\n",
              "          -0.09273675, -0.00624968,  0.14409256,  0.03459385,\n",
              "          -0.0754279 , -0.1018436 , -0.10965843,  0.07879514,\n",
              "           0.07382906,  0.03354154, -0.15028311,  0.06020728]],\n",
              "\n",
              "        [[ 0.05629988,  0.029946  , -0.00511165, -0.14473197,\n",
              "          -0.00713889,  0.15265664,  0.08575521,  0.1367633 ,\n",
              "          -0.1620971 ,  0.00022581, -0.10370768,  0.08386411,\n",
              "          -0.05293439,  0.02935857, -0.0301151 ,  0.00581561]]],\n",
              "\n",
              "\n",
              "       [[[-0.04129438,  0.08334887,  0.18073021, -0.10239073,\n",
              "           0.09810164,  0.1535085 ,  0.03414709,  0.12621436,\n",
              "          -0.0067339 ,  0.11096718, -0.09497235,  0.05555874,\n",
              "          -0.01851307,  0.02466873,  0.13887547,  0.15712379]],\n",
              "\n",
              "        [[ 0.08712727,  0.1543881 , -0.01902774,  0.11127026,\n",
              "          -0.05446845,  0.07358688,  0.17155923,  0.14392205,\n",
              "          -0.04220478,  0.14496951,  0.17974927, -0.05199395,\n",
              "           0.1434266 , -0.07061575, -0.09037277, -0.07451253]],\n",
              "\n",
              "        [[ 0.06473801, -0.12205257,  0.0122143 , -0.06209112,\n",
              "          -0.1176101 ,  0.09608372, -0.0946499 , -0.02894556,\n",
              "          -0.17329319,  0.06838662,  0.10156403,  0.17488904,\n",
              "           0.01297684, -0.21822661,  0.07588149, -0.02453215]],\n",
              "\n",
              "        [[ 0.13039164,  0.08138857,  0.14940478,  0.06969263,\n",
              "           0.06983279,  0.15237077,  0.13553388,  0.02544178,\n",
              "          -0.07342129,  0.12968154, -0.139466  ,  0.07861934,\n",
              "           0.09651369, -0.14479849,  0.10809862, -0.08854773]]]],\n",
              "      dtype=float32)>"
            ]
          },
          "metadata": {},
          "execution_count": 117
        }
      ]
    },
    {
      "cell_type": "markdown",
      "metadata": {
        "id": "J7J8ROvCCFWE"
      },
      "source": [
        "#### (2.3.2) Activations 🧨"
      ]
    },
    {
      "cell_type": "markdown",
      "metadata": {
        "id": "SFx9cID6CFWE"
      },
      "source": [
        "We have been looking at the activation (\"_output image_\") only after the **first convolutional layer**.\n",
        "\n",
        "🤔 What if we want to **visualize the activation of an image after every convolutional layer of the CNN** ?\n",
        "\n",
        "* 📚 We are going to use the [**Functional API**](https://www.tensorflow.org/guide/keras/functional) from Tensorflow/Keras.\n",
        "\n",
        "* 💪 Stay with us, this is the hardest part of the notebook but also the last one. And we are just asking you to stay focused and read 😉"
      ]
    },
    {
      "cell_type": "markdown",
      "metadata": {
        "id": "PrGAd-WdCFWE"
      },
      "source": [
        "***Step 0️⃣ : Reminders of the CNN's summary***"
      ]
    },
    {
      "cell_type": "code",
      "execution_count": null,
      "metadata": {
        "id": "X1ZYXv_rCFWF"
      },
      "outputs": [],
      "source": [
        "model.summary()"
      ]
    },
    {
      "cell_type": "markdown",
      "metadata": {
        "id": "HIa7UYn4CFWF"
      },
      "source": [
        "***Step 1️⃣: listing all the 11 layers' outputs of your CNN***"
      ]
    },
    {
      "cell_type": "code",
      "execution_count": null,
      "metadata": {
        "id": "OicQvOpFCFWF"
      },
      "outputs": [],
      "source": [
        "layers_outputs = [layer.output for layer in model.layers]\n",
        "layers_outputs"
      ]
    },
    {
      "cell_type": "markdown",
      "metadata": {
        "id": "dlwUS_2QCFWG"
      },
      "source": [
        "***Step 2️⃣ : Instantiate 11 sub-models re-using already trained weights and biases***\n",
        "- layer1\n",
        "- layer1 $ \\Rightarrow $ layer2\n",
        "- layer1 $ \\Rightarrow $ layer2 $ \\Rightarrow $ layer3\n",
        "- ... "
      ]
    },
    {
      "cell_type": "code",
      "execution_count": null,
      "metadata": {
        "id": "OSmJpsIrCFWG"
      },
      "outputs": [],
      "source": [
        "from tensorflow.keras import Model\n",
        "\n",
        "activation_models = [Model(inputs=model.input, outputs=output) for output in layers_outputs]"
      ]
    },
    {
      "cell_type": "markdown",
      "metadata": {
        "id": "nd7urY5lCFWG"
      },
      "source": [
        "***Step 3️⃣ : Compute the outputs of each submodel***"
      ]
    },
    {
      "cell_type": "code",
      "execution_count": null,
      "metadata": {
        "id": "l6etiezWCFWG"
      },
      "outputs": [],
      "source": [
        "activations = [m.predict(X) for m in activation_models]\n",
        "len(activations)"
      ]
    },
    {
      "cell_type": "code",
      "execution_count": null,
      "metadata": {
        "id": "8K4jH-xPCFWG"
      },
      "outputs": [],
      "source": [
        "[activation.shape for activation in activations]"
      ]
    },
    {
      "cell_type": "markdown",
      "metadata": {
        "id": "mNRGiShBCFWH"
      },
      "source": [
        "😎 PRO TIP:\n",
        "* In Tensorflow, you can also create a single model with many outputs to avoid Python loops / list comprehensions\n",
        "* Steps 1️⃣ 2️⃣ 3️⃣ can be done as follows:"
      ]
    },
    {
      "cell_type": "code",
      "execution_count": null,
      "metadata": {
        "id": "WeDqLWKqCFWH"
      },
      "outputs": [],
      "source": [
        "layers_outputs = [layer.output for layer in model.layers] # same as above\n",
        "activation_model = Model(inputs=model.input, outputs=layers_outputs) # model with many outputs !\n",
        "activations = activation_model.predict(X) # 11 predictions at once!\n",
        "[activation.shape for activation in activations]"
      ]
    },
    {
      "cell_type": "markdown",
      "metadata": {
        "id": "NEU1eg0nCFWH"
      },
      "source": [
        "#### (2.3.3) The final show 🥁"
      ]
    },
    {
      "cell_type": "markdown",
      "metadata": {
        "id": "MTYtWd0ICFWI"
      },
      "source": [
        "🔥 Now that the activations are computed, we can choose one image in the dataset and observe the different \"activation images\" through each convolutional layer! In other terms, we are now able to observe what the CNN sees for each image! "
      ]
    },
    {
      "cell_type": "markdown",
      "metadata": {
        "id": "R1MUkcSECFWI"
      },
      "source": [
        "* 👇 Run the code down below and observe how a triangle was seen through the different convolutional layers."
      ]
    },
    {
      "cell_type": "code",
      "execution_count": null,
      "metadata": {
        "id": "Pr7IT9PwCFWI"
      },
      "outputs": [],
      "source": [
        "# Selecting a random triangle\n",
        "image_number = np.random.choice(np.where(y == 1)[0]) \n",
        "\n",
        "for layer_number in [0,2,4,6]:\n",
        "    \n",
        "    print(f\"--- Observing the effect of the convolutional layer number {layer_number}... ---\")\n",
        "    print(\"\")\n",
        "    \n",
        "    temp_number_kernels = model.layers[layer_number].weights[0].shape[-1]\n",
        "    print(f\"{temp_number_kernels} kernels were applied and here are all the activations of this Conv2D Layer:\")\n",
        "    \n",
        "    fig, axes = plt.subplots(int(temp_number_kernels/4),4, figsize=(20,7))\n",
        "    \n",
        "    \n",
        "    for ax, kernel_number in zip(axes.flat,range(temp_number_kernels)):\n",
        "        activation = activations[layer_number][image_number][:, :, kernel_number]\n",
        "        ax.imshow(activation, cmap=\"gray\")\n",
        "    \n",
        "    plt.show()\n"
      ]
    },
    {
      "cell_type": "markdown",
      "metadata": {
        "id": "YHAhPlW9CFWJ"
      },
      "source": [
        "* 👇 Run the code down below and observe how a circle) was seen through the different convolutional layers."
      ]
    },
    {
      "cell_type": "code",
      "execution_count": null,
      "metadata": {
        "id": "5obZDb77CFWJ"
      },
      "outputs": [],
      "source": [
        "# Selecting a random triangle\n",
        "image_number = np.random.choice(np.where(y == 0)[0]) \n",
        "\n",
        "for layer_number in [0,2,4,6]:\n",
        "    \n",
        "    print(f\"--- Observing the effect of the convolutional layer number {layer_number}... ---\")\n",
        "    print(\"\")\n",
        "    \n",
        "    temp_number_kernels = model.layers[layer_number].weights[0].shape[-1]\n",
        "    print(f\"{temp_number_kernels} kernels were applied and here are all the activations of this Conv2D Layer:\")\n",
        "    \n",
        "    fig, axes = plt.subplots(int(temp_number_kernels/4),4, figsize=(20,7))\n",
        "    \n",
        "    \n",
        "    for ax, kernel_number in zip(axes.flat,range(temp_number_kernels)):\n",
        "        activation = activations[layer_number][image_number][:, :, kernel_number]\n",
        "        ax.imshow(activation, cmap=\"gray\")\n",
        "    \n",
        "    plt.show()\n"
      ]
    },
    {
      "cell_type": "markdown",
      "metadata": {
        "id": "6F7-A6guCFWJ"
      },
      "source": [
        "🧑🏻‍🏫 ***Notes*** 🧑🏻‍🏫\n",
        "\n",
        "1. Notice how the information of an image **flows** through the Convolutional Neural Network.\n",
        "2. You should see the picture becoming more and more \"abstract\", of smaller and smaller \"dimensions\"\n",
        "\n",
        "🕹 Feel free to play with the [CNN Explainer](https://poloclub.github.io/cnn-explainer/) from researchers at [Georgia Tech](https://www.gatech.edu/)"
      ]
    },
    {
      "cell_type": "markdown",
      "metadata": {
        "id": "ESpNezdPCFWK"
      },
      "source": [
        "🏁 **Congratulations!**\n",
        "\n",
        "💾 Don't forget to `git add/commit/push` your notebook...\n",
        "\n",
        "🚀 ... and move on to the next challenge!"
      ]
    },
    {
      "cell_type": "markdown",
      "metadata": {
        "id": "iIY9Ym_HCFWK"
      },
      "source": [
        "## (Appendix) Utils\n",
        "\n",
        "* The following section simply presents the functions that helped us create the dataset with triangles and circles you have been working with.\n",
        "\n",
        "* They were left at the end of the notebook just in case you want to further prototype and get better understanding of what is going on. \n",
        "\n",
        "* But ***for this first day discovering Computer Vision, skip this section and go to the next exercise***, you can always come back to it any time later."
      ]
    },
    {
      "cell_type": "code",
      "execution_count": 105,
      "metadata": {
        "id": "xaElUh-ZCFWK"
      },
      "outputs": [],
      "source": [
        "def draw_triangle():\n",
        "    dx = np.random.uniform(0.1, 0.3)\n",
        "    dy = np.random.uniform(0.1, 0.3)\n",
        "    noise_x = np.random.uniform(0.0, 0.1)\n",
        "    noise_y = np.random.uniform(0.0, 0.1)    \n",
        "    \n",
        "    x = np.random.uniform(0, 1-dx-noise_x)\n",
        "    y = np.random.uniform(0, 1-dy)\n",
        "    X = np.array([[x,y], [x+dx+noise_x,y], [x+dx/2, y+dy+noise_y]])\n",
        "\n",
        "    t1 = plt.Polygon(X, color='black')\n",
        "    plt.gca().add_patch(t1)\n",
        "    \n",
        "def draw_circle():\n",
        "    r = np.random.uniform(0.1, 0.25)\n",
        "    x = np.random.uniform(0+r, 1-r)\n",
        "    y = np.random.uniform(0+r, 1-r)\n",
        "\n",
        "    circle1 = plt.Circle((x, y), r, color='black')\n",
        "    plt.gcf().gca().add_artist(circle1)\n",
        "    \n",
        "def create_image(form, path):\n",
        "    plt.figure(figsize=(1, 1))\n",
        "    if form == 'circle':\n",
        "        draw_circle()\n",
        "    elif form == 'triangle':\n",
        "        draw_triangle()\n",
        "    plt.axis('off')\n",
        "    plt.savefig(path, dpi=80, bbox_inches='tight')\n",
        "    plt.close()\n",
        "\n",
        "    \n",
        "def create_images(path):\n",
        "    nb_circles = 100\n",
        "    nb_triangles = 100\n",
        "    \n",
        "    for i in range(nb_circles):\n",
        "        c_path = os.path.join(path, 'circles', f'circle_{i}.png')\n",
        "        create_image('circle', c_path)\n",
        "        \n",
        "    for i in range(nb_triangles):\n",
        "        t_path = os.path.join(path, 'triangles', f'triangle_{i}.png')\n",
        "        create_image('triangle', t_path)"
      ]
    },
    {
      "cell_type": "code",
      "source": [
        "create_images()"
      ],
      "metadata": {
        "colab": {
          "base_uri": "https://localhost:8080/",
          "height": 165
        },
        "id": "OYRbyOfXq4jY",
        "outputId": "a0b79c46-57bc-40c5-b1fe-5b110a789644"
      },
      "execution_count": 110,
      "outputs": [
        {
          "output_type": "error",
          "ename": "TypeError",
          "evalue": "ignored",
          "traceback": [
            "\u001b[0;31m---------------------------------------------------------------------------\u001b[0m",
            "\u001b[0;31mTypeError\u001b[0m                                 Traceback (most recent call last)",
            "\u001b[0;32m<ipython-input-110-31315b449a31>\u001b[0m in \u001b[0;36m<module>\u001b[0;34m\u001b[0m\n\u001b[0;32m----> 1\u001b[0;31m \u001b[0mcreate_images\u001b[0m\u001b[0;34m(\u001b[0m\u001b[0;34m)\u001b[0m\u001b[0;34m\u001b[0m\u001b[0;34m\u001b[0m\u001b[0m\n\u001b[0m",
            "\u001b[0;31mTypeError\u001b[0m: create_images() missing 1 required positional argument: 'path'"
          ]
        }
      ]
    },
    {
      "cell_type": "code",
      "source": [],
      "metadata": {
        "id": "QTBGykmPq8iq"
      },
      "execution_count": null,
      "outputs": []
    }
  ],
  "metadata": {
    "kernelspec": {
      "display_name": "Python 3",
      "language": "python",
      "name": "python3"
    },
    "colab": {
      "provenance": []
    }
  },
  "nbformat": 4,
  "nbformat_minor": 0
}